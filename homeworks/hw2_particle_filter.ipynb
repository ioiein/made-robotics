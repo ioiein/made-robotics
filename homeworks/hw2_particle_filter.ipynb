{
  "nbformat": 4,
  "nbformat_minor": 0,
  "metadata": {
    "kernelspec": {
      "display_name": "Python 3",
      "language": "python",
      "name": "python3"
    },
    "language_info": {
      "codemirror_mode": {
        "name": "ipython",
        "version": 3
      },
      "file_extension": ".py",
      "mimetype": "text/x-python",
      "name": "python",
      "nbconvert_exporter": "python",
      "pygments_lexer": "ipython3",
      "version": "3.8.3"
    },
    "toc": {
      "base_numbering": 1,
      "nav_menu": {},
      "number_sections": true,
      "sideBar": true,
      "skip_h1_title": false,
      "title_cell": "Table of Contents",
      "title_sidebar": "Contents",
      "toc_cell": false,
      "toc_position": {},
      "toc_section_display": true,
      "toc_window_display": true
    },
    "colab": {
      "name": "hw2_particle_filter.ipynb",
      "provenance": []
    }
  },
  "cells": [
    {
      "cell_type": "markdown",
      "metadata": {
        "id": "FnByrm9tfQB5"
      },
      "source": [
        "# Home assignment 2: Particle filter"
      ]
    },
    {
      "cell_type": "markdown",
      "metadata": {
        "id": "jC5dk-OifQgP"
      },
      "source": [
        "In this homework assignment, we will implement an algorithm for estimating the robot's pose known as a particle filter.\n",
        "\n",
        "A particle filter consists of the following steps:\n",
        "\n",
        "1. The movement of particles in accordance with the kinematic motion model. The movement is carried out using the probabilistic motion function, taking into account the randomness of the process (noise of the motion).\n",
        "2. Comparison of the obtained measurement with the expected one by applying a probabilistic measurement function that estimates the probability of the obtained measurement given a fixed position of the particle. As a result of this step, each particle is assigned a weight proportional to the likelihood of the measurement given the position of the particle.\n",
        "3. Resampling is a process in which the probability of a particle to be chosen for a new set is proportional to the weight (likelihood) of the particle.\n",
        "\n",
        "\n",
        "## Task 1\n",
        " \n",
        "Implement the motion model of the mobile robot $p(x_ {t + 1} | x_t, u_t)$ as part of the `Robot` class. The method must be named `move`. The `move` method takes as input the current position of the robot and a vector of control signals (the steering angle ($\\alpha$) and the distance the robot should move ($d$)). The `move` method must return an instance of the `Robot` class with a new state vector $(x, y, \\theta)$.\n",
        "\n",
        "For this homework assignment, we will assume that our robot has car-like kinematics. Such kinematics is described by the [bicycle model](https://nabinsharma.wordpress.com/2014/01/02/kinematics-of-a-robot-bicycle-model/) (you can also refer to Lecture 3. The tricycle (note the difference in the notation). You need to implement a bicycle model in the `move()` method as an approximation of car-like kinematics.\n",
        "\n",
        "**Important:** The coordinates $(x, y)$ of the robot's state vector set the position of the center of the rear wheel axle of the robot.\n",
        "\n",
        "**Important:** The `move` method must also simulate the noise of the control signals. For this, additive normal noise is applied to each component of the control signal vector. The steering angle noise is specified by the `Robot.steering_noise` class attribute. The movement noise is specified by the `Robot.distance_noise` class attribute. The `Robot.steering_noise` and `Robot.distance_noise` parameters set the standard deviation ($\\sigma$) of the normal distribution."
      ]
    },
    {
      "cell_type": "code",
      "metadata": {
        "id": "lMXFUIVDfQgc"
      },
      "source": [
        "from math import pi, tan, sin, cos, atan, exp, sqrt, fmod, atan2, log\n",
        "import random\n",
        "import scipy.stats\n",
        "import matplotlib.pyplot as plt"
      ],
      "execution_count": 1,
      "outputs": []
    },
    {
      "cell_type": "code",
      "metadata": {
        "id": "OgJ74Pa3fQg3"
      },
      "source": [
        "# --------\n",
        "#\n",
        "# the \"world\" has 4 landmarks.\n",
        "# the robot's initial coordinates are somewhere in the square\n",
        "# represented by the landmarks.\n",
        "\n",
        "landmarks = [\n",
        "    [100.0, 0.0],\n",
        "    [0.0, 0.0],\n",
        "    [0.0, 100.0],\n",
        "    [100.0, 100.0],\n",
        "]  # position of 4 landmarks\n",
        "world_size = 100.0  # world is NOT cyclic. Robot is allowed to travel \"out of bounds\""
      ],
      "execution_count": 2,
      "outputs": []
    },
    {
      "cell_type": "code",
      "metadata": {
        "id": "8OXGlp-4fQg9"
      },
      "source": [
        "class Robot:\n",
        "\n",
        "    # --------\n",
        "\n",
        "    # init:\n",
        "    #   creates robot and initializes location/orientation\n",
        "    #\n",
        "\n",
        "    def __init__(self, length=10.0):\n",
        "        self.x = random.random() * world_size  # initial x position\n",
        "        self.y = random.random() * world_size  # initial y position\n",
        "        self.orientation = random.random() * 2.0 * pi  # initial orientation\n",
        "        self.length = length  # length of robot\n",
        "        self.bearing_noise = 0.0  # initialize bearing noise to zero\n",
        "        self.distance_noise = 0.0  # initialize distance noise to zero\n",
        "        self.steering_noise = 0.0  # initialize steering noise to zero\n",
        "\n",
        "    def __repr__(self):\n",
        "        return \"[x=%.6s y=%.6s theta=%.6s]\" % (\n",
        "            str(self.x),\n",
        "            str(self.y),\n",
        "            str(self.orientation),\n",
        "        )\n",
        "\n",
        "    # --------\n",
        "    # set:\n",
        "    #   sets a robot coordinate\n",
        "    #\n",
        "\n",
        "    def set(self, new_x, new_y, new_orientation):\n",
        "\n",
        "        if new_orientation < 0 or new_orientation >= 2 * pi:\n",
        "            raise ValueError(\"Orientation must be in [0..2pi]\")\n",
        "        self.x = float(new_x)\n",
        "        self.y = float(new_y)\n",
        "        self.orientation = float(new_orientation)\n",
        "\n",
        "    # --------\n",
        "    # set_noise:\n",
        "    # \tsets the noise parameters\n",
        "    #\n",
        "\n",
        "    def set_noise(self, new_b_noise, new_s_noise, new_d_noise):\n",
        "        # makes it possible to change the noise parameters\n",
        "        # this is often useful in particle filters\n",
        "        self.bearing_noise = float(new_b_noise)\n",
        "        self.steering_noise = float(new_s_noise)\n",
        "        self.distance_noise = float(new_d_noise)\n",
        "\n",
        "    ############# ONLY ADD/MODIFY CODE BELOW ###################\n",
        "\n",
        "    # --------\n",
        "    # move:\n",
        "    #   move along a section of a circular path according to motion parameters\n",
        "    #\n",
        "\n",
        "    def move(self, motion): #motion - (a,d)\n",
        "        alpha = motion[0] + random.normalvariate(0, self.steering_noise)\n",
        "        d = motion[1] + random.normalvariate(0, self.distance_noise)\n",
        "        beta = d * tan(alpha) / self.length\n",
        "        if beta != 0:\n",
        "          R = self.length / tan(alpha)\n",
        "          x_c = self.x - R * sin(self.orientation)\n",
        "          y_c = self.y + R * cos(self.orientation)\n",
        "          x_new = x_c + R * sin(self.orientation + beta)\n",
        "          y_new = y_c - R * cos(self.orientation + beta)\n",
        "          o_new = (self.orientation + beta) % (2 * pi)\n",
        "        else:\n",
        "          x_new = self.x + d * cos(self.orientation)\n",
        "          y_new = self.y + d * sin(self.orientation)\n",
        "          o_new = self.orientation\n",
        "        self.x = x_new\n",
        "        self.y = y_new\n",
        "        self.orientation = o_new\n",
        "        return self\n",
        "        # make sure your move function returns an instance of Robot class\n",
        "        # with the correct coordinates.\n",
        "    \n",
        "\n",
        "    def sense(self, no_noise = True):\n",
        "      measurements_lanmarks = []\n",
        "      for landmark in landmarks:\n",
        "        x_l = landmark[0]\n",
        "        y_l = landmark[1]\n",
        "        x_rel = x_l - self.x\n",
        "        y_rel = y_l - self.y\n",
        "        phi = (atan2(y_rel, x_rel) + 2 * pi) % (2 * pi)\n",
        "        if no_noise:\n",
        "          measurements_lanmarks.append((phi - self.orientation + 2 * pi) % (2 * pi))\n",
        "        else:\n",
        "          measurements_lanmarks.append((phi - self.orientation + random.normalvariate(0, self.bearing_noise) + 2 * pi) % (2 * pi))\n",
        "      return measurements_lanmarks \n",
        "\n",
        "    ############## ONLY ADD/MODIFY CODE ABOVE ####################"
      ],
      "execution_count": 3,
      "outputs": []
    },
    {
      "cell_type": "code",
      "metadata": {
        "id": "M44yIVA6fQh9",
        "outputId": "8088a4e7-c2e6-4c1b-9641-0100aef72b2e",
        "colab": {
          "base_uri": "https://localhost:8080/"
        }
      },
      "source": [
        "## --------\n",
        "## TEST CASE #1:\n",
        "##\n",
        "## The following code should print:\n",
        "##       Robot:     [x=0.0 y=0.0 theta=0.0]\n",
        "##       Robot:     [x=10.0 y=0.0 theta=0.0]\n",
        "##       Robot:     [x=19.861 y=1.4333 theta=0.2886]\n",
        "##       Robot:     [x=39.034 y=7.1270 theta=0.2886]\n",
        "##\n",
        "\n",
        "length = 20.0\n",
        "bearing_noise = 0.0\n",
        "steering_noise = 0.0\n",
        "distance_noise = 0.0\n",
        "\n",
        "myrobot = Robot(length)\n",
        "myrobot.set(0.0, 0.0, 0.0)\n",
        "myrobot.set_noise(bearing_noise, steering_noise, distance_noise)\n",
        "\n",
        "motions = [[0.0, 10.0], [pi / 6.0, 10], [0.0, 20.0]]\n",
        "\n",
        "T = len(motions)\n",
        "\n",
        "print(\"Robot:    \", myrobot)\n",
        "for t in range(T):\n",
        "    myrobot = myrobot.move(motions[t])\n",
        "    print(\"Robot:    \", myrobot)"
      ],
      "execution_count": 4,
      "outputs": [
        {
          "output_type": "stream",
          "name": "stdout",
          "text": [
            "Robot:     [x=0.0 y=0.0 theta=0.0]\n",
            "Robot:     [x=10.0 y=0.0 theta=0.0]\n",
            "Robot:     [x=19.861 y=1.4333 theta=0.2886]\n",
            "Robot:     [x=39.034 y=7.1270 theta=0.2886]\n"
          ]
        }
      ]
    },
    {
      "cell_type": "code",
      "metadata": {
        "id": "oVM1li4GfQh_",
        "outputId": "2214f001-3ade-4e45-b4c8-b7c5c38fc2fd",
        "colab": {
          "base_uri": "https://localhost:8080/"
        }
      },
      "source": [
        "## --------\n",
        "## TEST CASE #2:\n",
        "##\n",
        "## The following code should print:\n",
        "##      Robot:     [x=0.0 y=0.0 theta=0.0]\n",
        "##      Robot:     [x=9.9828 y=0.5063 theta=0.1013]\n",
        "##      Robot:     [x=19.863 y=2.0201 theta=0.2027]\n",
        "##      Robot:     [x=29.539 y=4.5259 theta=0.3040]\n",
        "##      Robot:     [x=38.913 y=7.9979 theta=0.4054]\n",
        "##      Robot:     [x=47.887 y=12.400 theta=0.5067]\n",
        "##      Robot:     [x=56.369 y=17.688 theta=0.6081]\n",
        "##      Robot:     [x=64.273 y=23.807 theta=0.7094]\n",
        "##      Robot:     [x=71.517 y=30.695 theta=0.8108]\n",
        "##      Robot:     [x=78.027 y=38.280 theta=0.9121]\n",
        "##      Robot:     [x=83.736 y=46.485 theta=1.0135]\n",
        "\n",
        "length = 20.0\n",
        "bearing_noise = 0.0\n",
        "steering_noise = 0.0\n",
        "distance_noise = 0.0\n",
        "\n",
        "myrobot = Robot(length)\n",
        "myrobot.set(0.0, 0.0, 0.0)\n",
        "myrobot.set_noise(bearing_noise, steering_noise, distance_noise)\n",
        "\n",
        "motions = [[0.2, 10.0] for row in range(10)]\n",
        "\n",
        "T = len(motions)\n",
        "\n",
        "print(\"Robot:    \", myrobot)\n",
        "for t in range(T):\n",
        "    myrobot = myrobot.move(motions[t])\n",
        "    print(\"Robot:    \", myrobot)"
      ],
      "execution_count": 5,
      "outputs": [
        {
          "output_type": "stream",
          "name": "stdout",
          "text": [
            "Robot:     [x=0.0 y=0.0 theta=0.0]\n",
            "Robot:     [x=9.9828 y=0.5063 theta=0.1013]\n",
            "Robot:     [x=19.863 y=2.0201 theta=0.2027]\n",
            "Robot:     [x=29.539 y=4.5259 theta=0.3040]\n",
            "Robot:     [x=38.913 y=7.9979 theta=0.4054]\n",
            "Robot:     [x=47.887 y=12.400 theta=0.5067]\n",
            "Robot:     [x=56.369 y=17.688 theta=0.6081]\n",
            "Robot:     [x=64.273 y=23.807 theta=0.7094]\n",
            "Robot:     [x=71.517 y=30.695 theta=0.8108]\n",
            "Robot:     [x=78.027 y=38.280 theta=0.9121]\n",
            "Robot:     [x=83.736 y=46.485 theta=1.0135]\n"
          ]
        }
      ]
    },
    {
      "cell_type": "markdown",
      "metadata": {
        "id": "p04pelOKfQiB"
      },
      "source": [
        "## Task 2\n",
        " \n",
        "Implement a mobile robot measurement method. The method must be named `sense`. The `sense` method takes as input the current state of the robot (`self`) and returns $z$ - the current measurement consisting of four bearings to four landmarks located in space. Bearing is the angle at which the object is observed from the current position. The angle at which the robot observes each landmark is measured from the robot's current orientation $\\theta$. The counterclockwise direction is assumed to be positive.\n",
        "\n",
        "To calculate the bearing, you need the position of the landmarks in space. It is set by the global variable `landmarks`.\n",
        "\n",
        "**Important:** The `sense` method should also simulate the measurement noise. For this, additive normal noise is applied to each component of the measurement vector. The measurement noise is specified by the *Robot.bearing_noise* class attribute. This parameter specifies the standard deviation ($\\sigma$) of the normal distribution. Provide the ability to calculate a noisy measurement vector by passing an input argument `no_noise = True` to the function."
      ]
    },
    {
      "cell_type": "markdown",
      "metadata": {
        "id": "Ja32noTafQld"
      },
      "source": [
        "Copy the `Robot` class to the cell below and add the `sense` method to it."
      ]
    },
    {
      "cell_type": "code",
      "metadata": {
        "id": "fhiPOokgfQlf",
        "outputId": "a2361d3c-0116-49aa-c696-ec2b9d0700e5",
        "colab": {
          "base_uri": "https://localhost:8080/"
        }
      },
      "source": [
        "## --------\n",
        "## TEST CASE #1:\n",
        "##\n",
        "## 1) The following code should print the list:\n",
        "## [6.004885648174475, 3.7295952571373605, 1.9295669970654687, 0.8519663271732721]\n",
        "\n",
        "length = 20.0\n",
        "bearing_noise = 0.0\n",
        "steering_noise = 0.0\n",
        "distance_noise = 0.0\n",
        "\n",
        "myrobot = Robot(length)\n",
        "myrobot.set(30.0, 20.0, 0.0)\n",
        "myrobot.set_noise(bearing_noise, steering_noise, distance_noise)\n",
        "\n",
        "print(\"Robot:        \", myrobot)\n",
        "print(\"Measurements: \", myrobot.sense())"
      ],
      "execution_count": 6,
      "outputs": [
        {
          "output_type": "stream",
          "name": "stdout",
          "text": [
            "Robot:         [x=30.0 y=20.0 theta=0.0]\n",
            "Measurements:  [6.004885648174476, 3.72959525713736, 1.9295669970654679, 0.8519663271732725]\n"
          ]
        }
      ]
    },
    {
      "cell_type": "code",
      "metadata": {
        "id": "k5HKiy0ifQlj",
        "outputId": "ba9b663d-5b84-44fe-efa1-39ba6dff9d13",
        "colab": {
          "base_uri": "https://localhost:8080/"
        }
      },
      "source": [
        "## --------\n",
        "## TEST CASE #2:\n",
        "##\n",
        "## 2) The following code should print the list^\n",
        "## [5.376567117456516, 3.101276726419402, 1.3012484663475101, 0.22364779645531352]\n",
        "\n",
        "length = 20.0\n",
        "bearing_noise = 0.0\n",
        "steering_noise = 0.0\n",
        "distance_noise = 0.0\n",
        "\n",
        "myrobot = Robot(length)\n",
        "myrobot.set(30.0, 20.0,  pi / 5.0)\n",
        "myrobot.set_noise(bearing_noise, steering_noise, distance_noise)\n",
        "\n",
        "print(\"Robot:        \", myrobot)\n",
        "print(\"Measurements: \", myrobot.sense())"
      ],
      "execution_count": 7,
      "outputs": [
        {
          "output_type": "stream",
          "name": "stdout",
          "text": [
            "Robot:         [x=30.0 y=20.0 theta=0.6283]\n",
            "Measurements:  [5.376567117456517, 3.1012767264194014, 1.3012484663475092, 0.22364779645531385]\n"
          ]
        }
      ]
    },
    {
      "cell_type": "markdown",
      "metadata": {
        "id": "hJ4kg_icfQll"
      },
      "source": [
        "## Task 3\n",
        "\n",
        "Implement the mobile robot observation model $p(z_t | x_t, M)$. The method must be named `measurement_prob`. The `measurement_prob` method takes a measurement vector $z$ as input and returns the likelihood of the measurement. Likelihood is calculated as the product of four (by the number of landmarks) normal distributions of measurement errors. Each normal distribution shows the bearing probability i.e. the normal distribution of the error for each bearing has the mathematical expectation in the true (expected) bearing value and the variance given by the `Robot.bearing_noise` parameter.\n",
        "\n",
        "**Important:** Remember to normalize the angles when calculating bearing errors. The error must be in the range $- \\pi ... + \\pi$.\n",
        "\n",
        "**Important:** To get the true (expected) values of the measurements, you can use the `sense` method with the `no_noise = True` flag.\n",
        "\n",
        "Copy the `Robot` class into the cell below and add the `measurement_prob` method to it."
      ]
    },
    {
      "cell_type": "code",
      "metadata": {
        "id": "0RvE0XqAfQln"
      },
      "source": [
        "# YOUR CODE HERE\n",
        "class Robot:\n",
        "\n",
        "    # --------\n",
        "\n",
        "    # init:\n",
        "    #   creates robot and initializes location/orientation\n",
        "    #\n",
        "\n",
        "    def __init__(self, length=10.0):\n",
        "        self.x = random.random() * world_size  # initial x position\n",
        "        self.y = random.random() * world_size  # initial y position\n",
        "        self.orientation = random.random() * 2.0 * pi  # initial orientation\n",
        "        self.length = length  # length of robot\n",
        "        self.bearing_noise = 0.0  # initialize bearing noise to zero\n",
        "        self.distance_noise = 0.0  # initialize distance noise to zero\n",
        "        self.steering_noise = 0.0  # initialize steering noise to zero\n",
        "\n",
        "    def __repr__(self):\n",
        "        return \"[x=%.6s y=%.6s theta=%.6s]\" % (\n",
        "            str(self.x),\n",
        "            str(self.y),\n",
        "            str(self.orientation),\n",
        "        )\n",
        "\n",
        "    # --------\n",
        "    # set:\n",
        "    #   sets a robot coordinate\n",
        "    #\n",
        "\n",
        "    def set(self, new_x, new_y, new_orientation):\n",
        "\n",
        "        if new_orientation < 0 or new_orientation >= 2 * pi:\n",
        "            raise ValueError(\"Orientation must be in [0..2pi]\")\n",
        "        self.x = float(new_x)\n",
        "        self.y = float(new_y)\n",
        "        self.orientation = float(new_orientation)\n",
        "\n",
        "    # --------\n",
        "    # set_noise:\n",
        "    # \tsets the noise parameters\n",
        "    #\n",
        "\n",
        "    def set_noise(self, new_b_noise, new_s_noise, new_d_noise):\n",
        "        # makes it possible to change the noise parameters\n",
        "        # this is often useful in particle filters\n",
        "        self.bearing_noise = float(new_b_noise)\n",
        "        self.steering_noise = float(new_s_noise)\n",
        "        self.distance_noise = float(new_d_noise)\n",
        "\n",
        "    ############# ONLY ADD/MODIFY CODE BELOW ###################\n",
        "\n",
        "    # --------\n",
        "    # move:\n",
        "    #   move along a section of a circular path according to motion parameters\n",
        "    #\n",
        "\n",
        "    def move(self, motion): #motion - (a,d)\n",
        "        alpha = motion[0] + random.normalvariate(0, self.steering_noise)\n",
        "        d = motion[1] + random.normalvariate(0, self.distance_noise)\n",
        "        beta = d * tan(alpha) / self.length\n",
        "        if beta != 0:\n",
        "          R = self.length / tan(alpha)\n",
        "          x_c = self.x - R * sin(self.orientation)\n",
        "          y_c = self.y + R * cos(self.orientation)\n",
        "          x_new = x_c + R * sin(self.orientation + beta)\n",
        "          y_new = y_c - R * cos(self.orientation + beta)\n",
        "          o_new = (self.orientation + beta) % (2 * pi)\n",
        "        else:\n",
        "          x_new = self.x + d * cos(self.orientation)\n",
        "          y_new = self.y + d * sin(self.orientation)\n",
        "          o_new = self.orientation\n",
        "        self.x = x_new\n",
        "        self.y = y_new\n",
        "        self.orientation = o_new\n",
        "        return self\n",
        "        # make sure your move function returns an instance of Robot class\n",
        "        # with the correct coordinates.\n",
        "    \n",
        "\n",
        "    def sense(self, no_noise = False):\n",
        "      measurements_lanmarks = []\n",
        "      for landmark in landmarks:\n",
        "        x_l = landmark[0]\n",
        "        y_l = landmark[1]\n",
        "        x_rel = x_l - self.x\n",
        "        y_rel = y_l - self.y\n",
        "        phi = (atan2(y_rel, x_rel) + 2 * pi) % (2 * pi)\n",
        "        if no_noise == True:\n",
        "          measurements_lanmarks.append((phi - self.orientation + 2 * pi) % (2 * pi))\n",
        "        else:\n",
        "          measurements_lanmarks.append((phi - self.orientation + random.normalvariate(0, self.bearing_noise) + 2 * pi) % (2 * pi))\n",
        "      return measurements_lanmarks\n",
        "\n",
        "    def measurement_prob(self, z):\n",
        "      prob = 1.0\n",
        "      for x, y in zip(self.sense(no_noise=True), z):\n",
        "        err = y - x\n",
        "        err = (err + pi) % (2.0 * pi) - pi\n",
        "        prob *= (scipy.stats.norm.pdf(x = err, scale = self.bearing_noise))\n",
        "      return prob\n",
        "\n",
        "\n",
        "\n",
        "    ############## ONLY ADD/MODIFY CODE ABOVE ####################\n"
      ],
      "execution_count": 8,
      "outputs": []
    },
    {
      "cell_type": "code",
      "metadata": {
        "id": "5obfhPo-UywZ",
        "outputId": "80d47b3d-4369-4d96-8013-d86dd9166a1c",
        "colab": {
          "base_uri": "https://localhost:8080/"
        }
      },
      "source": [
        "## --------\n",
        "## TEST CASE:\n",
        "\n",
        "length = 20.0\n",
        "bearing_noise = 0.1\n",
        "steering_noise = 0.0\n",
        "distance_noise = 0.0\n",
        "\n",
        "myrobot = Robot(length)\n",
        "myrobot.set(50.0, 50.0,  0.0)\n",
        "myrobot.set_noise(bearing_noise, steering_noise, distance_noise)\n",
        "\n",
        "print(\"Robot:        \", myrobot)\n",
        "print(\"Measurements: \", myrobot.sense(no_noise=True))\n",
        "myrobot.measurement_prob([5.307787143782137, 3.8069908169872423, 2.306194490192344, 0.7853981633974483])"
      ],
      "execution_count": 9,
      "outputs": [
        {
          "output_type": "stream",
          "name": "stdout",
          "text": [
            "Robot:         [x=50.0 y=50.0 theta=0.0]\n",
            "Measurements:  [5.497787143782137, 3.9269908169872423, 2.356194490192344, 0.7853981633974483]\n"
          ]
        },
        {
          "output_type": "execute_result",
          "data": {
            "text/plain": [
              "17.89616133262416"
            ]
          },
          "metadata": {},
          "execution_count": 9
        }
      ]
    },
    {
      "cell_type": "markdown",
      "metadata": {
        "id": "zXCToXOtfQlo"
      },
      "source": [
        "## Task 4\n",
        "\n",
        "Run the particle filter based on the `Robot` class you have implemented. Add a step-by-step visualization of the particle filter for the second test case.\n",
        "\n",
        "The visualization should reflect:\n",
        "1. Map with marked positions of landmarks\n",
        "2. Particles - it is enough to reflect only $(x, y)$\n",
        "3. The final estimated position of the robot at each moment in time"
      ]
    },
    {
      "cell_type": "code",
      "metadata": {
        "id": "zG1HjEJ9fQlp"
      },
      "source": [
        "max_steering_angle = (\n",
        "    pi / 4.0\n",
        ")  # You do not need to use this value, but keep in mind the limitations of a real car.\n",
        "bearing_noise = 0.1\n",
        "steering_noise = 0.1\n",
        "distance_noise = 5.0\n",
        "\n",
        "tolerance_xy = 15.0  # Tolerance for localization in the x and y directions.\n",
        "tolerance_orientation = 0.25  # Tolerance for orientation.\n",
        "\n",
        "\n",
        "# --------\n",
        "#\n",
        "# the \"world\" has 4 landmarks.\n",
        "# the robot's initial coordinates are somewhere in the square\n",
        "# represented by the landmarks.\n",
        "\n",
        "landmarks = [\n",
        "    [100.0, 0.0],\n",
        "    [0.0, 0.0],\n",
        "    [0.0, 100.0],\n",
        "    [100.0, 100.0],\n",
        "]  # position of 4 landmarks\n",
        "world_size = 100.0  # world is NOT cyclic. Robot is allowed to travel \"out of bounds\""
      ],
      "execution_count": 10,
      "outputs": []
    },
    {
      "cell_type": "code",
      "metadata": {
        "id": "jitcAh2ifQlq"
      },
      "source": [
        "# Some utility functions\n",
        "\n",
        "def get_position(p):\n",
        "    x = 0.0\n",
        "    y = 0.0\n",
        "    orientation = 0.0\n",
        "    for i in range(len(p)):\n",
        "        x += p[i].x\n",
        "        y += p[i].y\n",
        "        # orientation is tricky because it is cyclic. By normalizing\n",
        "        # around the first particle we are somewhat more robust to\n",
        "        # the 0=2pi problem\n",
        "        orientation += (((p[i].orientation - p[0].orientation + pi) % (2.0 * pi)) \n",
        "                        + p[0].orientation - pi)\n",
        "    return [x / len(p), y / len(p), orientation / len(p)]\n",
        "\n",
        "\n",
        "# The following code generates ground truth poses and measurements\n",
        "def generate_ground_truth(motions):\n",
        "\n",
        "    myrobot = Robot()\n",
        "    myrobot.set_noise(bearing_noise, steering_noise, distance_noise)\n",
        "\n",
        "    Z = []\n",
        "    T = len(motions)\n",
        "\n",
        "    for t in range(T):\n",
        "        myrobot = myrobot.move(motions[t])\n",
        "        Z.append(myrobot.sense())\n",
        "    #print 'Robot:    ', myrobot\n",
        "    return [myrobot, Z]\n",
        "\n",
        "\n",
        "# The following code prints the measurements associated\n",
        "# with generate_ground_truth\n",
        "def print_measurements(Z):\n",
        "\n",
        "    T = len(Z)\n",
        "\n",
        "    print ('measurements = [[%.8s, %.8s, %.8s, %.8s],' % \\\n",
        "        (str(Z[0][0]), str(Z[0][1]), str(Z[0][2]), str(Z[0][3])))\n",
        "    for t in range(1,T-1):\n",
        "        print ('                [%.8s, %.8s, %.8s, %.8s],' % \\\n",
        "            (str(Z[t][0]), str(Z[t][1]), str(Z[t][2]), str(Z[t][3])))\n",
        "    print ('                [%.8s, %.8s, %.8s, %.8s]]' % \\\n",
        "        (str(Z[T-1][0]), str(Z[T-1][1]), str(Z[T-1][2]), str(Z[T-1][3])))\n",
        "\n",
        "\n",
        "# The following code checks to see if your particle filter\n",
        "# localizes the robot to within the desired tolerances\n",
        "# of the true position. The tolerances are defined at the top.\n",
        "def check_output(final_robot, estimated_position):\n",
        "\n",
        "    error_x = abs(final_robot.x - estimated_position[0])\n",
        "    error_y = abs(final_robot.y - estimated_position[1])\n",
        "    error_orientation = abs(final_robot.orientation - estimated_position[2])\n",
        "    error_orientation = (error_orientation + pi) % (2.0 * pi) - pi\n",
        "    correct = error_x < tolerance_xy and error_y < tolerance_xy \\\n",
        "              and error_orientation < tolerance_orientation\n",
        "    return correct\n",
        "\n",
        "def plot_particles(particles, legend):\n",
        "  x_s = []\n",
        "  y_s = []\n",
        "  for part in particles:\n",
        "    x_s.append(part.x)\n",
        "    y_s.append(part.y)\n",
        "  plt.scatter(x_s, y_s)\n",
        "  plt.legend(legend)\n",
        "  plt.show()\n",
        "  plt.close()"
      ],
      "execution_count": 11,
      "outputs": []
    },
    {
      "cell_type": "code",
      "metadata": {
        "id": "IkLDWhOPfQmV"
      },
      "source": [
        "def particle_filter(motions, measurements, N=500):  # We will use 500 particles\n",
        "    # --------\n",
        "    #\n",
        "    # Create particles (models of the Robot)\n",
        "    #\n",
        "\n",
        "    particles = []\n",
        "    for i in range(N):\n",
        "        robot = Robot()\n",
        "        robot.set_noise(bearing_noise, steering_noise, distance_noise)\n",
        "        particles.append(robot)\n",
        "\n",
        "    # --------\n",
        "    #\n",
        "    # Update particles\n",
        "    #\n",
        "\n",
        "    for t in range(len(motions)):\n",
        "        # motion update (prediction)\n",
        "        particles_after_motion = []\n",
        "        for i in range(N):\n",
        "            particles_after_motion.append(particles[i].move(motions[t]))\n",
        "        particles = particles_after_motion\n",
        "\n",
        "        # measurement update (correction)\n",
        "        weights = []\n",
        "        for i in range(N):\n",
        "            weights.append(particles[i].measurement_prob(measurements[t]))\n",
        "\n",
        "        # resampling\n",
        "        particles_resampled = []\n",
        "        index = int(random.random() * N)\n",
        "        beta = 0.0\n",
        "        mw = max(weights)\n",
        "        for i in range(N):\n",
        "            beta += random.random() * 2.0 * mw\n",
        "            while beta > weights[index]:\n",
        "                beta -= weights[index]\n",
        "                index = (index + 1) % N\n",
        "            particles_resampled.append(particles[index])\n",
        "        particles = particles_resampled\n",
        "\n",
        "    return get_position(particles)"
      ],
      "execution_count": 12,
      "outputs": []
    },
    {
      "cell_type": "code",
      "metadata": {
        "id": "R0AlzfKFfQmW",
        "outputId": "ae192bd1-c1fd-490e-c856-610268acd967",
        "colab": {
          "base_uri": "https://localhost:8080/"
        }
      },
      "source": [
        "## --------\n",
        "## TEST CASE #1:\n",
        "## \n",
        "##1) Calling the particle_filter function with the following\n",
        "##    motions and measurements should return a [x,y,orientation]\n",
        "##    vector near [x=93.476 y=75.186 orient=5.2664], that is, the\n",
        "##    robot's true location.\n",
        "##\n",
        "motions = [[2. * pi / 10, 20.] for row in range(8)]\n",
        "measurements = [[4.746936, 3.859782, 3.045217, 2.045506],\n",
        "                [3.510067, 2.916300, 2.146394, 1.598332],\n",
        "                [2.972469, 2.407489, 1.588474, 1.611094],\n",
        "                [1.906178, 1.193329, 0.619356, 0.807930],\n",
        "                [1.352825, 0.662233, 0.144927, 0.799090],\n",
        "                [0.856150, 0.214590, 5.651497, 1.062401],\n",
        "                [0.194460, 5.660382, 4.761072, 2.471682],\n",
        "                [5.717342, 4.736780, 3.909599, 2.342536]]\n",
        "\n",
        "print (particle_filter(motions, measurements))"
      ],
      "execution_count": 13,
      "outputs": [
        {
          "output_type": "stream",
          "name": "stdout",
          "text": [
            "[-6.383858671144798, -173.99540025861634, 2.114967903093099]\n"
          ]
        }
      ]
    },
    {
      "cell_type": "code",
      "metadata": {
        "id": "KpJkfyX-fQmY",
        "outputId": "50b1b040-aae7-49f3-840a-b5517182f2c7",
        "colab": {
          "base_uri": "https://localhost:8080/"
        }
      },
      "source": [
        "## --------\n",
        "## TEST CASE #1:\n",
        "##\n",
        "## 2) You can generate your own test cases by generating\n",
        "##    measurements using the generate_ground_truth function.\n",
        "##    It will print the robot's last location when calling it.\n",
        "##\n",
        "\n",
        "number_of_iterations = 6\n",
        "motions = [[2.0 * pi / 20, 12.0] for row in range(number_of_iterations)]\n",
        "\n",
        "x = generate_ground_truth(motions)\n",
        "final_robot = x[0]\n",
        "measurements = x[1]\n",
        "estimated_position = particle_filter(motions, measurements)\n",
        "print_measurements(measurements)\n",
        "print(\"Ground truth:    \", final_robot)\n",
        "print(\"Particle filter: \", estimated_position)\n",
        "print(\"Code check:      \", check_output(final_robot, estimated_position))"
      ],
      "execution_count": 14,
      "outputs": [
        {
          "output_type": "stream",
          "name": "stdout",
          "text": [
            "measurements = [[2.893415, 1.608781, 5.410186, 4.015834],\n",
            "                [2.176859, 1.094796, 4.274817, 3.344223],\n",
            "                [2.413518, 1.134982, 4.058330, 3.185106],\n",
            "                [2.062497, 1.163883, 3.481700, 2.662446],\n",
            "                [1.879734, 0.974713, 3.468923, 2.498622],\n",
            "                [1.165655, 0.387045, 2.623284, 1.856200]]\n",
            "Ground truth:     [x=-16.36 y=20.627 theta=5.0146]\n",
            "Particle filter:  [51.8858852678411, 77.51564683074609, 3.7425643907316095]\n",
            "Code check:       False\n"
          ]
        }
      ]
    },
    {
      "cell_type": "code",
      "metadata": {
        "id": "7AFzx_aR-FBv"
      },
      "source": [
        ""
      ],
      "execution_count": 14,
      "outputs": []
    }
  ]
}